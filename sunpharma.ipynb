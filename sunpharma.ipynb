{
  "nbformat": 4,
  "nbformat_minor": 0,
  "metadata": {
    "colab": {
      "name": "sunpharma.ipynb",
      "provenance": []
    },
    "kernelspec": {
      "name": "python3",
      "display_name": "Python 3"
    }
  },
  "cells": [
    {
      "cell_type": "code",
      "metadata": {
        "id": "L5otAgBWHSlS"
      },
      "source": [
        "import pandas as pd\n",
        "import numpy as np\n",
        "from sklearn.svm import SVR\n",
        "import matplotlib.pyplot as plt"
      ],
      "execution_count": 1,
      "outputs": []
    },
    {
      "cell_type": "code",
      "metadata": {
        "id": "egZmRVEIHVVq",
        "outputId": "6d0211d7-6b0b-431e-e725-24e9975657f4",
        "colab": {
          "base_uri": "https://localhost:8080/",
          "height": 204
        }
      },
      "source": [
        "df=pd.read_csv('/content/SUNPHARMA.NS (1).csv')\n",
        "df.tail()"
      ],
      "execution_count": 2,
      "outputs": [
        {
          "output_type": "execute_result",
          "data": {
            "text/html": [
              "<div>\n",
              "<style scoped>\n",
              "    .dataframe tbody tr th:only-of-type {\n",
              "        vertical-align: middle;\n",
              "    }\n",
              "\n",
              "    .dataframe tbody tr th {\n",
              "        vertical-align: top;\n",
              "    }\n",
              "\n",
              "    .dataframe thead th {\n",
              "        text-align: right;\n",
              "    }\n",
              "</style>\n",
              "<table border=\"1\" class=\"dataframe\">\n",
              "  <thead>\n",
              "    <tr style=\"text-align: right;\">\n",
              "      <th></th>\n",
              "      <th>Date</th>\n",
              "      <th>Open</th>\n",
              "      <th>High</th>\n",
              "      <th>Low</th>\n",
              "      <th>Close</th>\n",
              "      <th>Adj Close</th>\n",
              "      <th>Volume</th>\n",
              "    </tr>\n",
              "  </thead>\n",
              "  <tbody>\n",
              "    <tr>\n",
              "      <th>18</th>\n",
              "      <td>2020-07-27</td>\n",
              "      <td>484.850006</td>\n",
              "      <td>487.600006</td>\n",
              "      <td>469.000000</td>\n",
              "      <td>475.500000</td>\n",
              "      <td>474.596008</td>\n",
              "      <td>6112617</td>\n",
              "    </tr>\n",
              "    <tr>\n",
              "      <th>19</th>\n",
              "      <td>2020-07-28</td>\n",
              "      <td>475.500000</td>\n",
              "      <td>483.750000</td>\n",
              "      <td>473.250000</td>\n",
              "      <td>482.600006</td>\n",
              "      <td>481.682526</td>\n",
              "      <td>5917155</td>\n",
              "    </tr>\n",
              "    <tr>\n",
              "      <th>20</th>\n",
              "      <td>2020-07-29</td>\n",
              "      <td>485.700012</td>\n",
              "      <td>496.299988</td>\n",
              "      <td>484.149994</td>\n",
              "      <td>493.000000</td>\n",
              "      <td>492.062744</td>\n",
              "      <td>8531803</td>\n",
              "    </tr>\n",
              "    <tr>\n",
              "      <th>21</th>\n",
              "      <td>2020-07-30</td>\n",
              "      <td>493.200012</td>\n",
              "      <td>513.200012</td>\n",
              "      <td>487.299988</td>\n",
              "      <td>509.950012</td>\n",
              "      <td>508.980530</td>\n",
              "      <td>17534819</td>\n",
              "    </tr>\n",
              "    <tr>\n",
              "      <th>22</th>\n",
              "      <td>2020-07-31</td>\n",
              "      <td>514.250000</td>\n",
              "      <td>541.000000</td>\n",
              "      <td>507.500000</td>\n",
              "      <td>531.700012</td>\n",
              "      <td>530.689148</td>\n",
              "      <td>41253676</td>\n",
              "    </tr>\n",
              "  </tbody>\n",
              "</table>\n",
              "</div>"
            ],
            "text/plain": [
              "          Date        Open        High  ...       Close   Adj Close    Volume\n",
              "18  2020-07-27  484.850006  487.600006  ...  475.500000  474.596008   6112617\n",
              "19  2020-07-28  475.500000  483.750000  ...  482.600006  481.682526   5917155\n",
              "20  2020-07-29  485.700012  496.299988  ...  493.000000  492.062744   8531803\n",
              "21  2020-07-30  493.200012  513.200012  ...  509.950012  508.980530  17534819\n",
              "22  2020-07-31  514.250000  541.000000  ...  531.700012  530.689148  41253676\n",
              "\n",
              "[5 rows x 7 columns]"
            ]
          },
          "metadata": {
            "tags": []
          },
          "execution_count": 2
        }
      ]
    },
    {
      "cell_type": "code",
      "metadata": {
        "id": "SEeXzpLAHVjA"
      },
      "source": [
        "dates=[]\n",
        "prices=[]\n"
      ],
      "execution_count": 3,
      "outputs": []
    },
    {
      "cell_type": "code",
      "metadata": {
        "id": "yZ4weglXHV5i",
        "outputId": "0ca47bf0-e8cf-4406-90b1-5f8456a59572",
        "colab": {
          "base_uri": "https://localhost:8080/"
        }
      },
      "source": [
        "#get the no. of rows and columns in the data set\n",
        "df.shape"
      ],
      "execution_count": 4,
      "outputs": [
        {
          "output_type": "execute_result",
          "data": {
            "text/plain": [
              "(23, 7)"
            ]
          },
          "metadata": {
            "tags": []
          },
          "execution_count": 4
        }
      ]
    },
    {
      "cell_type": "code",
      "metadata": {
        "id": "DquuPi8YHWE0",
        "outputId": "4cd6d8c4-a5cd-4cc2-efb9-f82267915db3",
        "colab": {
          "base_uri": "https://localhost:8080/"
        }
      },
      "source": [
        "#print all of the data except for the last row\n",
        "df=df.head(len(df)-1)\n",
        "print(df.shape)"
      ],
      "execution_count": 5,
      "outputs": [
        {
          "output_type": "stream",
          "text": [
            "(22, 7)\n"
          ],
          "name": "stdout"
        }
      ]
    },
    {
      "cell_type": "code",
      "metadata": {
        "id": "tl5tGJLjHWPY"
      },
      "source": [
        "df_dates=df.loc[:,'Date'] # get all rows from date column \n",
        "df_Adj_close=df.loc[:,'Adj Close']#get all rows of Adj Close"
      ],
      "execution_count": 6,
      "outputs": []
    },
    {
      "cell_type": "code",
      "metadata": {
        "id": "yPDV015mHWaw"
      },
      "source": [
        "for date in df_dates:\n",
        "   dates.append([int(date.split('-')[2])])\n",
        "\n",
        "#create the dependent data set 'y' as prices\n",
        "for close_price in df_Adj_close:\n",
        "   prices.append(float(close_price))"
      ],
      "execution_count": 7,
      "outputs": []
    },
    {
      "cell_type": "code",
      "metadata": {
        "id": "IAgGM9SyHWku",
        "outputId": "44459070-c463-4e15-b90e-61ad686440a8",
        "colab": {
          "base_uri": "https://localhost:8080/"
        }
      },
      "source": [
        "print(dates)"
      ],
      "execution_count": 8,
      "outputs": [
        {
          "output_type": "stream",
          "text": [
            "[[1], [2], [3], [6], [7], [8], [9], [10], [13], [14], [15], [16], [17], [20], [21], [22], [23], [24], [27], [28], [29], [30]]\n"
          ],
          "name": "stdout"
        }
      ]
    },
    {
      "cell_type": "code",
      "metadata": {
        "id": "H05FLAHZHWv2"
      },
      "source": [
        "#function to make prediction using 3 different kernals\n",
        "def predict_prices(dates, prices, x): #x is testing date for test model  \n",
        "    svr_lin=SVR(kernel='linear', C=1e3)\n",
        "    svr_poly=SVR(kernel='poly', C=1e3,degree=2)\n",
        "    svr_rbf=SVR(kernel='rbf', C=1e3, gamma=0.1)\n",
        "\n",
        "    #TRAIN the models on the dates and prices\n",
        "    svr_lin.fit(dates,prices)\n",
        "    svr_poly.fit(dates,prices)\n",
        "    svr_rbf.fit(dates,prices)\n",
        "   \n",
        "    #plot the graph \n",
        "    plt.scatter(dates,prices,color='blue',label='Data',s=60)\n",
        "    plt.scatter(dates,svr_rbf.predict(dates),color='black',label='RBF model')\n",
        "    plt.scatter(dates,svr_lin.predict(dates),color='green',label='Linear Model')\n",
        "    plt.scatter(dates,svr_poly.predict(dates),color='yellow',label='Polynomial model')\n",
        "    plt.xlabel('Date')\n",
        "    plt.ylabel('price')\n",
        "    plt.title('Support vactor Regression (sun pharma Data)')\n",
        "    plt.legend()\n",
        "    plt.show()\n",
        "    return svr_rbf.predict(x)[0],svr_lin.predict(x)[0],svr_poly.predict(x)[0]\n"
      ],
      "execution_count": 9,
      "outputs": []
    },
    {
      "cell_type": "code",
      "metadata": {
        "id": "gliDWFmUH_Gu",
        "outputId": "ec94c36a-7d8d-4f99-f116-248066f8fb46",
        "colab": {
          "base_uri": "https://localhost:8080/",
          "height": 312
        }
      },
      "source": [
        "predicted_price = predict_prices(dates,prices,[[31]])\n",
        "print(predicted_price)"
      ],
      "execution_count": 10,
      "outputs": [
        {
          "output_type": "display_data",
          "data": {
            "image/png": "[encoded data removed]",
            "text/plain": [
              "<Figure size 432x288 with 1 Axes>"
            ]
          },
          "metadata": {
            "tags": [],
            "needs_background": "light"
          }
        },
        {
          "output_type": "stream",
          "text": [
            "(522.757896525818, 486.9506067775867, 488.5080803581841)\n"
          ],
          "name": "stdout"
        }
      ]
    }
  ]
}